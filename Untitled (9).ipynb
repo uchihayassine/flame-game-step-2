{
 "cells": [
  {
   "cell_type": "code",
   "execution_count": 3,
   "id": "a2ce02b9",
   "metadata": {},
   "outputs": [
    {
     "name": "stdout",
     "output_type": "stream",
     "text": [
      "yassine is FRIEND to ahmed\n"
     ]
    }
   ],
   "source": [
    "def flame(a, b):\n",
    "    l, sc = 1, 0\n",
    "    rc, fc = 0, 5\n",
    "    f = \"flames\"\n",
    "    f = [i for i in f]\n",
    "    q = \"\".join(a)\n",
    "    w = \"\".join(b)\n",
    "     \n",
    "    \n",
    "    n = len(a)\n",
    "    m = len(b)\n",
    "    tc = n + m\n",
    "    for i in range(n):\n",
    "        c = a[i]\n",
    "        for j in range(m):\n",
    "            if (c == b[j]):\n",
    "                a[i] = -1\n",
    "                b[j] = -1\n",
    "                sc = sc + 2\n",
    "                break\n",
    " \n",
    "    rc = tc - sc\n",
    "    i = 0\n",
    " \n",
    "    while (i):\n",
    "        if (l == (rc)):\n",
    "            for k in range(i,len(f)):\n",
    "                f[k] = f[k + 1]\n",
    "            f[k + 1] = '\\0'\n",
    "            fc = fc - 1\n",
    "            i = i - 1\n",
    "            l = 0\n",
    "        if (i == fc):\n",
    "            i = -1\n",
    "        if (fc == 0):\n",
    "            break\n",
    "        l += 1\n",
    "        i += 1\n",
    " \n",
    "   \n",
    "    if (f[0] == 'e'):\n",
    "        print(q, \"is ENEMY to\", w)\n",
    "    elif (f[0] == 'f'):\n",
    "        print(q, \"is FRIEND to\", w)\n",
    "    elif (f[0] == 'm'):\n",
    "        print(q, \"is going to MARRY\", w)\n",
    "    elif (f[0] == 'l'):\n",
    "        print(q, \"is in LOVE with\", w)\n",
    "    elif (f[0] == 'a'):\n",
    "        print(q, \"has more AFFECTION on\", w)\n",
    "    else:\n",
    "        print(q, \"and\", w, \"are SISTERS/BROTHERS \")\n",
    "a = \"yassine\"\n",
    "b = \"ahmed\"\n",
    "a = [i for i in a]\n",
    "b = [j for j in b]\n",
    " \n",
    "# print(a,b)\n",
    "flame(a, b)"
   ]
  }
 ],
 "metadata": {
  "kernelspec": {
   "display_name": "Python 3",
   "language": "python",
   "name": "python3"
  },
  "language_info": {
   "codemirror_mode": {
    "name": "ipython",
    "version": 3
   },
   "file_extension": ".py",
   "mimetype": "text/x-python",
   "name": "python",
   "nbconvert_exporter": "python",
   "pygments_lexer": "ipython3",
   "version": "3.8.8"
  }
 },
 "nbformat": 4,
 "nbformat_minor": 5
}
